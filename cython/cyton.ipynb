{
 "cells": [
  {
   "cell_type": "markdown",
   "metadata": {},
   "source": [
    "Cython - оптимизация кода"
   ]
  },
  {
   "cell_type": "markdown",
   "metadata": {},
   "source": [
    "Выполнили: Анастасия Смирнова, Арсений Беляев"
   ]
  },
  {
   "cell_type": "markdown",
   "metadata": {},
   "source": [
    "В совместной курсовой была найдена функция get_notall_info, которую можно было оптимизировать."
   ]
  },
  {
   "cell_type": "code",
   "execution_count": 19,
   "metadata": {},
   "outputs": [],
   "source": [
    "import vk_api\n",
    "from datetime import datetime\n",
    "def get_notall_info(owner_id):\n",
    "    \n",
    "    titles = ['verified', 'subscribers', 'posts', 'views', 'likes',\n",
    "          'comments', 'reposts']\n",
    "    \n",
    "    \n",
    "    vk_session = vk_api.VkApi('ars-bel@mail.ru', '**')\n",
    "    vk_session.auth()\n",
    "    vk = vk_session.get_api()\n",
    "\n",
    "    owner = '-' + str(owner_id)\n",
    "\n",
    "    response1 = vk.wall.get(owner_id = owner,count = 1, extended = 1,\n",
    "                                      fields = 'screen_name,verified,members_count,activity')['groups'][0]\n",
    "\n",
    "    control_date = int(datetime.now().timestamp()) - 2592000\n",
    "\n",
    "    post_date = int(datetime.now().timestamp())\n",
    "\n",
    "    all_members = response1['members_count']\n",
    "    all_posts = 0\n",
    "    all_comments = 0\n",
    "    all_likes = 0\n",
    "    all_views = 0\n",
    "    all_reposts = 0\n",
    "    er_post = 0\n",
    "    raiting = 0\n",
    "\n",
    "    offset = 1\n",
    "\n",
    "    while post_date > control_date:\n",
    "        response = vk.wall.get(owner_id = owner, count = 100, offset = offset)['items']\n",
    "        if len(response) != 0:\n",
    "            for i in response:\n",
    "                if int(i['date']) < int(control_date):\n",
    "\n",
    "                    post_date = i['date']\n",
    "                    break\n",
    "\n",
    "                try:\n",
    "                    all_comments += i['comments']['count']\n",
    "                    all_likes += i['likes']['count']\n",
    "                    all_views += i['views']['count']\n",
    "                    all_reposts += i['reposts']['count']\n",
    "                    all_posts +=1\n",
    "                except:\n",
    "                    pass\n",
    "\n",
    "            offset += 100\n",
    "        else:\n",
    "            post_date = control_date\n",
    "\n",
    "\n",
    "    info = [response1['verified'],\n",
    "            all_members,all_posts, all_views, all_likes, all_comments, all_reposts]\n",
    "    return info\n"
   ]
  },
  {
   "cell_type": "markdown",
   "metadata": {},
   "source": [
    "Время до оптимизации:"
   ]
  },
  {
   "cell_type": "code",
   "execution_count": 20,
   "metadata": {},
   "outputs": [
    {
     "name": "stdout",
     "output_type": "stream",
     "text": [
      "12.3 s ± 0 ns per loop (mean ± std. dev. of 1 run, 1 loop each)\n"
     ]
    }
   ],
   "source": [
    "%%timeit -n1 -r1 \n",
    "get_notall_info(23148107) "
   ]
  },
  {
   "cell_type": "code",
   "execution_count": null,
   "metadata": {},
   "outputs": [],
   "source": [
    "%%cython -a\n",
    "import vk_api\n",
    "from datetime import datetime\n",
    "def get_notall_info(owner_id):\n",
    "    \n",
    "    titles = ['verified', 'subscribers', 'posts', 'views', 'likes',\n",
    "          'comments', 'reposts']\n",
    "    \n",
    "    \n",
    "    vk_session = vk_api.VkApi('ars-bel@mail.ru', '**')\n",
    "    vk_session.auth()\n",
    "    vk = vk_session.get_api()\n",
    "\n",
    "    owner = '-' + str(owner_id)\n",
    "\n",
    "    response1 = vk.wall.get(owner_id = owner,count = 1, extended = 1,\n",
    "                                      fields = 'screen_name,verified,members_count,activity')['groups'][0]\n",
    "\n",
    "    control_date = int(datetime.now().timestamp()) - 2592000\n",
    "\n",
    "    post_date = int(datetime.now().timestamp())\n",
    "\n",
    "    all_members = response1['members_count']\n",
    "    all_posts = 0\n",
    "    all_comments = 0\n",
    "    all_likes = 0\n",
    "    all_views = 0\n",
    "    all_reposts = 0\n",
    "    er_post = 0\n",
    "    raiting = 0\n",
    "\n",
    "    offset = 1\n",
    "\n",
    "    while post_date > control_date:\n",
    "        response = vk.wall.get(owner_id = owner, count = 100, offset = offset)['items']\n",
    "        if len(response) != 0:\n",
    "            for i in response:\n",
    "                if int(i['date']) < int(control_date):\n",
    "\n",
    "                    post_date = i['date']\n",
    "                    break\n",
    "\n",
    "                try:\n",
    "                    all_comments += i['comments']['count']\n",
    "                    all_likes += i['likes']['count']\n",
    "                    all_views += i['views']['count']\n",
    "                    all_reposts += i['reposts']['count']\n",
    "                    all_posts +=1\n",
    "                except:\n",
    "                    pass\n",
    "\n",
    "            offset += 100\n",
    "        else:\n",
    "            post_date = control_date\n",
    "\n",
    "\n",
    "    info = [response1['verified'],\n",
    "            all_members,all_posts, all_views, all_likes, all_comments, all_reposts]\n",
    "    return info\n"
   ]
  },
  {
   "cell_type": "markdown",
   "metadata": {},
   "source": [
    "Время после оптимизации:"
   ]
  },
  {
   "cell_type": "code",
   "execution_count": 21,
   "metadata": {},
   "outputs": [
    {
     "name": "stdout",
     "output_type": "stream",
     "text": [
      "10.5 s ± 0 ns per loop (mean ± std. dev. of 1 run, 1 loop each)\n"
     ]
    }
   ],
   "source": [
    "%%timeit -n1 -r1 \n",
    "get_notall_info(23148107)"
   ]
  }
 ],
 "metadata": {
  "kernelspec": {
   "display_name": "Python 3",
   "language": "python",
   "name": "python3"
  },
  "language_info": {
   "codemirror_mode": {
    "name": "ipython",
    "version": 3
   },
   "file_extension": ".py",
   "mimetype": "text/x-python",
   "name": "python",
   "nbconvert_exporter": "python",
   "pygments_lexer": "ipython3",
   "version": "3.7.6"
  }
 },
 "nbformat": 4,
 "nbformat_minor": 4
}
